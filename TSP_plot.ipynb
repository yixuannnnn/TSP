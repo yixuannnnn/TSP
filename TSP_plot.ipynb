{
  "nbformat": 4,
  "nbformat_minor": 0,
  "metadata": {
    "colab": {
      "name": "TSP_plot.ipynb",
      "provenance": [],
      "collapsed_sections": []
    },
    "kernelspec": {
      "name": "python3",
      "display_name": "Python 3"
    },
    "language_info": {
      "name": "python"
    }
  },
  "cells": [
    {
      "cell_type": "code",
      "metadata": {
        "id": "RlT4fagMQq0l"
      },
      "source": [
        "import random\n",
        "\n",
        "def Graph(n):\n",
        "    matrix = [([0] * n) for i in range(n)] \n",
        "    for i in range(n):\n",
        "        for j in range(n):\n",
        "            if i == j:\n",
        "                matrix[i][j] = 0\n",
        "            else:\n",
        "                matrix[i][j] = random.randrange(1, 30)\n",
        "    return matrix\n",
        "\n",
        "#dynamic programming\n",
        "import copy\n",
        "def TSP_DP(matrix, n):\n",
        "    g = {}\n",
        "    p = []\n",
        "\n",
        "    for x in range(1, n):\n",
        "        g[x + 1, ()] = matrix[x][0]\n",
        "\n",
        "    weight = get_minimum(1, (range(2, n + 1)), g, p)\n",
        "\n",
        "    return weight\n",
        "\n",
        "\n",
        "def get_minimum(k, a, g, p):\n",
        "    if (k, a) in g:\n",
        "        # Already calculated Set g[%d, (%s)]=%d' % (k, str(a), g[k, a]))\n",
        "        return g[k, a]\n",
        "\n",
        "    values = []\n",
        "    all_min = []\n",
        "    for j in a:\n",
        "        set_a = copy.deepcopy(list(a))\n",
        "        set_a.remove(j)\n",
        "        all_min.append([j, tuple(set_a)])\n",
        "        result = get_minimum(j, tuple(set_a), g, p)\n",
        "        values.append(matrix[k - 1][j - 1] + result)\n",
        "\n",
        "    # get minimun value from set as optimal solution for\n",
        "    g[k, a] = min(values)\n",
        "    p.append(((k, a), all_min[values.index(g[k, a])]))\n",
        "\n",
        "    return g[k, a]\n",
        "\n",
        "#Backtracking\n",
        "#https://www.geeksforgeeks.org/travelling-salesman-problem-implementation-using-backtracking/\n",
        "answer = []\n",
        "\n",
        "def TSP_BT(graph, v, currPos, n, count, cost):\n",
        "\tif (count == n and graph[currPos][0]):\n",
        "\t\tanswer.append(cost + graph[currPos][0])\n",
        "\t\treturn\n",
        "\n",
        "\t# BACKTRACKING STEP\n",
        "\tfor i in range(n):\n",
        "\t\tif (v[i] == False and graph[currPos][i]):\n",
        "\t\t\t\n",
        "\t\t\t# Mark as visited\n",
        "\t\t\tv[i] = True\n",
        "\t\t\tTSP_BT(graph, v, i, n, count + 1, cost + graph[currPos][i])\n",
        "\t\t\t\n",
        "\t\t\t# Mark ith node as unvisited\n",
        "\t\t\tv[i] = False"
      ],
      "execution_count": 5,
      "outputs": []
    },
    {
      "cell_type": "code",
      "metadata": {
        "colab": {
          "base_uri": "https://localhost:8080/"
        },
        "id": "MrGUdKU5Ks51",
        "outputId": "93eac750-6e89-4b26-f63d-2e8801fbbeae"
      },
      "source": [
        "#main function\n",
        "import time\n",
        "import csv\n",
        "\n",
        "g = {}\n",
        "p = []\n",
        "l = []\n",
        "a = ()\n",
        "DP_time = []\n",
        "BT_time = []\n",
        "error_weight = []\n",
        "for V in range(4, 13): \n",
        "    print(\"vertex number: \", V)\n",
        "    matrix = Graph(V)\n",
        "                     \n",
        "    #run TSP_DP\n",
        "    start = time.time()\n",
        "    r1 = TSP_DP(matrix, V)\n",
        "    end = time.time()\n",
        "    time1 = end-start\n",
        "    DP_time.append(time1)\n",
        "    print(\"DP_weight:\", r1, \"; DP_time:\", time1)\n",
        "            \n",
        "    #run TSP_BT\n",
        "    start = time.time()\n",
        "    v = [False for i in range(V)]\n",
        "    v[0] = True # Mark 0th node as visited\n",
        "    TSP_BT(matrix, v, 0, V, 1, 0) # Find the minimum weight Hamiltonian Cycle\n",
        "    r2 = min(answer) # ans is the minimum weight Hamiltonian Cycle\n",
        "    end = time.time()\n",
        "    time2 = end-start\n",
        "    BT_time.append(time2)\n",
        "    print(\"BT_weight:\", r2, \"; BT_time:\", time2)\n",
        "                    \n",
        "                    \n",
        "    #calculate error\n",
        "    error = (r2 - r1)/r1\n",
        "    error_weight .append(error)\n",
        "    print(\"error:\", error)\n",
        "    \n",
        "    print(\"-------------------------------------------------\")\n",
        "\n",
        "    with open('TSP_data(DP, BT).csv', 'a+', newline='')as csvFile:        \n",
        "        csvWriter = csv.writer(csvFile)\n",
        "        #csvWriter.writerow(['vertex number', 'dp weight','na weight','dp time', 'na time', 'error'])\n",
        "        csvWriter.writerow([str(V), str(r1), str(r2), str(time1), str(time2), str(error)])    \n",
        "    csvFile.close()\n",
        "    "
      ],
      "execution_count": 9,
      "outputs": [
        {
          "output_type": "stream",
          "text": [
            "vertex number:  4\n",
            "DP_weight: 38 ; DP_time: 0.0001227855682373047\n",
            "BT_weight: 30 ; BT_time: 0.7714641094207764\n",
            "error: -0.21052631578947367\n",
            "-------------------------------------------------\n",
            "vertex number:  5\n",
            "DP_weight: 34 ; DP_time: 0.00095367431640625\n",
            "BT_weight: 30 ; BT_time: 0.7339744567871094\n",
            "error: -0.11764705882352941\n",
            "-------------------------------------------------\n",
            "vertex number:  6\n",
            "DP_weight: 46 ; DP_time: 0.0009951591491699219\n",
            "BT_weight: 30 ; BT_time: 0.7232925891876221\n",
            "error: -0.34782608695652173\n",
            "-------------------------------------------------\n",
            "vertex number:  7\n",
            "DP_weight: 48 ; DP_time: 0.005316734313964844\n",
            "BT_weight: 30 ; BT_time: 0.7294094562530518\n",
            "error: -0.375\n",
            "-------------------------------------------------\n",
            "vertex number:  8\n",
            "DP_weight: 41 ; DP_time: 0.009012937545776367\n",
            "BT_weight: 30 ; BT_time: 0.7557284832000732\n",
            "error: -0.2682926829268293\n",
            "-------------------------------------------------\n",
            "vertex number:  9\n",
            "DP_weight: 54 ; DP_time: 0.025101423263549805\n",
            "BT_weight: 30 ; BT_time: 0.8412578105926514\n",
            "error: -0.4444444444444444\n",
            "-------------------------------------------------\n",
            "vertex number:  10\n",
            "DP_weight: 61 ; DP_time: 0.07187509536743164\n",
            "BT_weight: 30 ; BT_time: 1.7055189609527588\n",
            "error: -0.5081967213114754\n",
            "-------------------------------------------------\n",
            "vertex number:  11\n",
            "DP_weight: 73 ; DP_time: 0.16657209396362305\n",
            "BT_weight: 30 ; BT_time: 10.660646915435791\n",
            "error: -0.589041095890411\n",
            "-------------------------------------------------\n",
            "vertex number:  12\n",
            "DP_weight: 40 ; DP_time: 0.7477502822875977\n",
            "BT_weight: 30 ; BT_time: 111.34199213981628\n",
            "error: -0.25\n",
            "-------------------------------------------------\n"
          ],
          "name": "stdout"
        }
      ]
    },
    {
      "cell_type": "code",
      "metadata": {
        "colab": {
          "base_uri": "https://localhost:8080/",
          "height": 303
        },
        "id": "aPPIPGwwSq6D",
        "outputId": "c498b0bb-e737-420e-de76-1f6e55fd3c77"
      },
      "source": [
        "import random,time\n",
        "import matplotlib.pyplot as plt\n",
        "import numpy as np\n",
        "#DP圖\n",
        "xpt = [i for i in range(4,13)]\n",
        "ypt = DP_time\n",
        "plt.plot(xpt,ypt) #畫線\n",
        "plt.title(\"TSP_DP_Time\", fontsize=20) #圖表標題\n",
        "plt.xlabel(\"Number_Of_City\", fontsize=12) #x軸標題\n",
        "plt.ylabel(\"AVG_Time(seconds)\", fontsize=12) #y軸標題\n",
        "plt.show() #顯示繪製的圖形"
      ],
      "execution_count": 11,
      "outputs": [
        {
          "output_type": "display_data",
          "data": {
            "image/png": "[encoded data removed]",
            "text/plain": [
              "<Figure size 432x288 with 1 Axes>"
            ]
          },
          "metadata": {
            "tags": [],
            "needs_background": "light"
          }
        }
      ]
    },
    {
      "cell_type": "code",
      "metadata": {
        "colab": {
          "base_uri": "https://localhost:8080/",
          "height": 303
        },
        "id": "daDmjRjiVqz1",
        "outputId": "abfbf8d9-8f04-4143-cded-e8cc2a786625"
      },
      "source": [
        "#BT圖\n",
        "xpt = [i for i in range(4,13)]\n",
        "ypt = BT_time\n",
        "plt.plot(xpt,ypt) #畫線\n",
        "plt.title(\"TSP_BT_Time\", fontsize=20) #圖表標題\n",
        "plt.xlabel(\"Number_Of_City\", fontsize=12) #x軸標題\n",
        "plt.ylabel(\"AVG_Time(seconds)\", fontsize=12) #y軸標題\n",
        "plt.show() #顯示繪製的圖形"
      ],
      "execution_count": 8,
      "outputs": [
        {
          "output_type": "display_data",
          "data": {
            "image/png": "[encoded data removed]",
            "text/plain": [
              "<Figure size 432x288 with 1 Axes>"
            ]
          },
          "metadata": {
            "tags": [],
            "needs_background": "light"
          }
        }
      ]
    },
    {
      "cell_type": "code",
      "metadata": {
        "colab": {
          "base_uri": "https://localhost:8080/",
          "height": 303
        },
        "id": "To-VbHB5WHsx",
        "outputId": "75774a06-cd20-4d56-b7e9-442ffa933591"
      },
      "source": [
        "#comparison\n",
        "xpt = [i for i in range(4,13)]\n",
        "ypt = error_weight #( |(GY值-DP值)| )/ (DP值)\n",
        "plt.plot(xpt,ypt) #畫線\n",
        "plt.title(\"TSP\", fontsize=20) #圖表標題\n",
        "plt.xlabel(\"Number_Of_City\", fontsize=12) #x軸標題\n",
        "plt.ylabel(\"RelativeError\", fontsize=12) #y軸標題\n",
        "plt.show() #顯示繪製的圖形"
      ],
      "execution_count": 10,
      "outputs": [
        {
          "output_type": "display_data",
          "data": {
            "image/png": "[encoded data removed]",
            "text/plain": [
              "<Figure size 432x288 with 1 Axes>"
            ]
          },
          "metadata": {
            "tags": [],
            "needs_background": "light"
          }
        }
      ]
    }
  ]
}